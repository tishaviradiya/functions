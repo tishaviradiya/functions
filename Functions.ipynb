{
  "nbformat": 4,
  "nbformat_minor": 0,
  "metadata": {
    "colab": {
      "provenance": []
    },
    "kernelspec": {
      "name": "python3",
      "display_name": "Python 3"
    },
    "language_info": {
      "name": "python"
    }
  },
  "cells": [
    {
      "cell_type": "code",
      "execution_count": null,
      "metadata": {
        "id": "I1QJ4ckH61SH"
      },
      "outputs": [],
      "source": [
        "1. What is the difference between a function and a method in Python?\n",
        "Function: A block of reusable code that is not associated with an object. Defined using def.\n",
        "\n",
        "Method: A function that is associated with an object and called on an object (usually of a class)\n",
        "def greet():\n",
        "    return \"Hello\"\n",
        "\n",
        "class Person:\n",
        "    def say_hello(self):\n",
        "        return \"Hello from method\"\n",
        "\n",
        "print(greet())  # Function call\n",
        "p = Person()\n",
        "print(p.say_hello())  # Method call\n"
      ]
    },
    {
      "cell_type": "code",
      "source": [
        "2. Explain the concept of function arguments and parameters in Python.\n",
        "Parameters are variables listed inside the parentheses in the function definition.\n",
        "\n",
        "Arguments are the values passed to the function when it is called.\n",
        "def add(a, b):  # a and b are parameters\n",
        "    return a + b\n",
        "\n",
        "print(add(2, 3))  # 2 and 3 are arguments\n"
      ],
      "metadata": {
        "id": "UZ0Blwds7IXz"
      },
      "execution_count": null,
      "outputs": []
    },
    {
      "cell_type": "code",
      "source": [
        "3. What are the different ways to define and call a function in Python?\n",
        "Define using def or lambda\n",
        "\n",
        "Call using function name followed by parentheses.\n",
        "# Normal function\n",
        "def square(x):\n",
        "    return x * x\n",
        "\n",
        "print(square(4))\n",
        "\n",
        "# Lambda function\n",
        "square = lambda x: x * x\n",
        "print(square(5))\n"
      ],
      "metadata": {
        "id": "ljmE-Ff17OOY"
      },
      "execution_count": null,
      "outputs": []
    },
    {
      "cell_type": "code",
      "source": [
        "4. What is the purpose of the return statement in a Python function?\n",
        "The return statement sends a value back to the caller and ends function execution.\n",
        "def multiply(a, b):\n",
        "    return a * b\n",
        "\n",
        "result = multiply(2, 5)\n",
        "print(result)\n"
      ],
      "metadata": {
        "id": "-oiYXF-o7SxJ"
      },
      "execution_count": null,
      "outputs": []
    },
    {
      "cell_type": "code",
      "source": [
        "5. What are iterators in Python and how do they differ from iterables?\n",
        "Iterable: An object capable of returning its members one at a time (like list, tuple, etc.)\n",
        "\n",
        "Iterator: An object with __next__() and __iter__() methods used to fetch items from an iterable.\n",
        "nums = [1, 2, 3]  # Iterable\n",
        "it = iter(nums)   # Iterator\n",
        "print(next(it))   # 1\n"
      ],
      "metadata": {
        "id": "YD-rPAvE7XN0"
      },
      "execution_count": null,
      "outputs": []
    },
    {
      "cell_type": "code",
      "source": [
        "6. Explain the concept of generators in Python and how they are defined.\n",
        "A generator is a function that yields values one at a time using yield.\n",
        "\n",
        "It doesn’t store the entire sequence in memory.\n",
        "def gen():\n",
        "    yield 1\n",
        "    yield 2\n",
        "    yield 3\n",
        "\n",
        "for i in gen():\n",
        "    print(i)\n"
      ],
      "metadata": {
        "id": "ZsylWQWr7cBx"
      },
      "execution_count": null,
      "outputs": []
    },
    {
      "cell_type": "code",
      "source": [
        "7. What are the advantages of using generators over regular functions?\n",
        "Memory Efficient: Generates items one at a time.\n",
        "\n",
        "Faster for large data: No need to store all items at once.\n",
        "def count_up_to(n):\n",
        "    i = 1\n",
        "    while i <= n:\n",
        "        yield i\n",
        "        i += 1\n"
      ],
      "metadata": {
        "id": "q5Ap1Hqr7hCG"
      },
      "execution_count": null,
      "outputs": []
    },
    {
      "cell_type": "code",
      "source": [
        "8. What is a lambda function in Python and when is it typically used?\n",
        "A lambda function is an anonymous function expressed in a single line, used for short, throwaway functions.\n",
        "square = lambda x: x * x\n",
        "print(square(6))\n"
      ],
      "metadata": {
        "id": "4h56Wf_57k8L"
      },
      "execution_count": null,
      "outputs": []
    },
    {
      "cell_type": "code",
      "source": [
        "9. Explain the purpose and usage of the map() function in Python.\n",
        "map() applies a given function to all items in an iterable and returns a map object (iterator).\n",
        "nums = [1, 2, 3, 4]\n",
        "squared = map(lambda x: x * x, nums)\n",
        "print(list(squared))  # [1, 4, 9, 16]\n"
      ],
      "metadata": {
        "id": "kfn8vb4Y7pHN"
      },
      "execution_count": null,
      "outputs": []
    },
    {
      "cell_type": "code",
      "source": [
        "10. What is the difference between map(), reduce(), and filter() functions in Python?\n",
        "| Function   | Purpose                         | Returns                    |\n",
        "| ---------- | ------------------------------- | -------------------------- |\n",
        "| `map()`    | Applies a function to all items | Iterator of results        |\n",
        "| `filter()` | Filters items by condition      | Iterator of filtered items |\n",
        "| `reduce()` | Reduces to a single value       | Single cumulative result   |\n",
        "from functools import reduce\n",
        "\n",
        "nums = [1, 2, 3, 4]\n",
        "\n",
        "print(list(map(lambda x: x + 1, nums)))     # [2, 3, 4, 5]\n",
        "print(list(filter(lambda x: x % 2 == 0, nums)))  # [2, 4]\n",
        "print(reduce(lambda x, y: x + y, nums))     # 10\n"
      ],
      "metadata": {
        "id": "ROXjlO3P7tFO"
      },
      "execution_count": null,
      "outputs": []
    },
    {
      "cell_type": "code",
      "source": [
        "11. Using pen & paper write the internal mechanism for sum operation using reduce function on this given list: [47, 11, 42, 13]\n",
        "Conceptual Step-by-step (in reduce):\n",
        "\n",
        "from functools import reduce\n",
        "\n",
        "data = [47, 11, 42, 13]\n",
        "result = reduce(lambda x, y: x + y, data)\n",
        "\n",
        "# Internally:\n",
        "# Step 1: 47 + 11 = 58\n",
        "# Step 2: 58 + 42 = 100\n",
        "# Step 3: 100 + 13 = 113\n",
        "\n",
        "# Final Result: 113\n",
        "\n"
      ],
      "metadata": {
        "id": "PXznglwX70eV"
      },
      "execution_count": null,
      "outputs": []
    },
    {
      "cell_type": "code",
      "source": [
        "1. Function to sum even numbers in a list.\n",
        "def sum_even(numbers):\n",
        "    return sum(num for num in numbers if num % 2 == 0)\n",
        "\n",
        "print(sum_even([1, 2, 3, 4, 5, 6]))  # Output: 12\n"
      ],
      "metadata": {
        "id": "vIlGOFt68Jz6"
      },
      "execution_count": null,
      "outputs": []
    },
    {
      "cell_type": "code",
      "source": [
        "2. Function to reverse a string.\n",
        "def reverse_string(s):\n",
        "    return s[::-1]\n",
        "\n",
        "print(reverse_string(\"hello\"))  # Output: \"olleh\"\n"
      ],
      "metadata": {
        "id": "-YQN9cYU8NWU"
      },
      "execution_count": null,
      "outputs": []
    },
    {
      "cell_type": "code",
      "source": [
        "3. Function to return squares of a list of integers.\n",
        "def square_list(nums):\n",
        "    return [x ** 2 for x in nums]\n",
        "\n",
        "print(square_list([1, 2, 3]))  # Output: [1, 4, 9]\n"
      ],
      "metadata": {
        "id": "78iegaAJ8RHD"
      },
      "execution_count": null,
      "outputs": []
    },
    {
      "cell_type": "code",
      "source": [
        "4. Function to check if a number is prime (1 to 200)\n",
        "def is_prime(n):\n",
        "    if n < 2 or n > 200:\n",
        "        return False\n",
        "    for i in range(2, int(n**0.5) + 1):\n",
        "        if n % i == 0:\n",
        "            return False\n",
        "    return True\n",
        "\n",
        "print(is_prime(7))   # True\n",
        "print(is_prime(100)) # False\n"
      ],
      "metadata": {
        "id": "mjHJkvla8Uc7"
      },
      "execution_count": null,
      "outputs": []
    },
    {
      "cell_type": "code",
      "source": [
        "5. Iterator class for Fibonacci sequence.\n",
        "class Fibonacci:\n",
        "    def __init__(self, n):\n",
        "        self.n = n\n",
        "        self.a, self.b = 0, 1\n",
        "        self.count = 0\n",
        "\n",
        "    def __iter__(self):\n",
        "        return self\n",
        "\n",
        "    def __next__(self):\n",
        "        if self.count >= self.n:\n",
        "            raise StopIteration\n",
        "        val = self.a\n",
        "        self.a, self.b = self.b, self.a + self.b\n",
        "        self.count += 1\n",
        "        return val\n",
        "\n",
        "for num in Fibonacci(7):\n",
        "    print(num, end=' ')  # Output: 0 1 1 2 3 5 8\n"
      ],
      "metadata": {
        "id": "Q9F1SbYN8YiG"
      },
      "execution_count": null,
      "outputs": []
    },
    {
      "cell_type": "code",
      "source": [
        "6. Generator for powers of 2.\n",
        "def powers_of_two(n):\n",
        "    for i in range(n + 1):\n",
        "        yield 2 ** i\n",
        "\n",
        "print(list(powers_of_two(5)))  # Output: [1, 2, 4, 8, 16, 32]\n"
      ],
      "metadata": {
        "id": "BBeiJ0kE8cWh"
      },
      "execution_count": null,
      "outputs": []
    },
    {
      "cell_type": "code",
      "source": [
        "7. Generator that yields lines from a file\n",
        "def read_file_lines(filename):\n",
        "    with open(filename, 'r') as f:\n",
        "        for line in f:\n",
        "            yield line.strip()\n",
        "\n",
        "# Example usage:\n",
        "# for line in read_file_lines(\"example.txt\"):\n",
        "#     print(line)\n"
      ],
      "metadata": {
        "id": "m9HTTyKq8gHG"
      },
      "execution_count": null,
      "outputs": []
    },
    {
      "cell_type": "code",
      "source": [
        "8. Lambda function to sort by second element of each tuple.\n",
        "data = [(1, 3), (2, 1), (3, 2)]\n",
        "sorted_data = sorted(data, key=lambda x: x[1])\n",
        "print(sorted_data)  # Output: [(2, 1), (3, 2), (1, 3)]\n"
      ],
      "metadata": {
        "id": "_dgSTJde8jZx"
      },
      "execution_count": null,
      "outputs": []
    },
    {
      "cell_type": "code",
      "source": [
        "9. Use map() to convert Celsius to Fahrenheit.\n",
        "celsius = [0, 10, 20, 30]\n",
        "fahrenheit = list(map(lambda c: (c * 9/5) + 32, celsius))\n",
        "print(fahrenheit)  # Output: [32.0, 50.0, 68.0, 86.0]\n"
      ],
      "metadata": {
        "id": "VTFJVScl8m9l"
      },
      "execution_count": null,
      "outputs": []
    },
    {
      "cell_type": "code",
      "source": [
        "10. Use filter() to remove all vowels from a string.\n",
        "def remove_vowels(s):\n",
        "    return ''.join(filter(lambda c: c.lower() not in 'aeiou', s))\n",
        "\n",
        "print(remove_vowels(\"Hello World\"))  # Output: \"Hll Wrld\"\n"
      ],
      "metadata": {
        "id": "C4hbSbDZ8qo3"
      },
      "execution_count": null,
      "outputs": []
    },
    {
      "cell_type": "code",
      "source": [
        "11. Bookstore accounting program using lambda and map().\n",
        "orders = [\n",
        "    [34587, \"Learning Python, Mark Lutz\", 4, 40.95],\n",
        "    [98762, \"Programming Python, Mark Lutz\", 5, 56.80],\n",
        "    [77226, \"Head First Python, Paul Barry\", 3, 32.95],\n",
        "    [88112, \"Einführung in Python3, Bernd Klein\", 3, 24.99]\n",
        "]\n",
        "\n",
        "result = list(map(lambda order:\n",
        "    (order[0], order[2]*order[3] if order[2]*order[3] >= 100 else order[2]*order[3] + 10),\n",
        "    orders\n",
        "))\n",
        "\n",
        "print(result)\n",
        "# Output:\n",
        "# [(34587, 163.8), (98762, 284.0), (77226, 108.85), (88112, 84.97)]\n"
      ],
      "metadata": {
        "id": "-UYD1YYk8uJ4"
      },
      "execution_count": null,
      "outputs": []
    },
    {
      "cell_type": "code",
      "source": [],
      "metadata": {
        "id": "zUCmSJyK80gY"
      },
      "execution_count": null,
      "outputs": []
    },
    {
      "cell_type": "code",
      "source": [],
      "metadata": {
        "id": "k1zjHNwD8yGG"
      },
      "execution_count": null,
      "outputs": []
    }
  ]
}